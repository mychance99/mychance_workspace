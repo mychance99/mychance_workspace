{
 "cells": [
  {
   "cell_type": "code",
   "execution_count": 1,
   "id": "bcf42ae3",
   "metadata": {},
   "outputs": [
    {
     "name": "stdout",
     "output_type": "stream",
     "text": [
      "directory 'post' created.\n"
     ]
    }
   ],
   "source": [
    "import os\n",
    "directory = f'post'\n",
    "if not os.path.exists(directory):\n",
    "    os.makedirs(directory)\n",
    "    print(f\"directory '{directory}' created.\")\n",
    "else:\n",
    "    print(f\"directory '{directory}' aready exists.\")"
   ]
  },
  {
   "cell_type": "code",
   "execution_count": null,
   "id": "e3886d92",
   "metadata": {},
   "outputs": [],
   "source": []
  },
  {
   "cell_type": "code",
   "execution_count": 2,
   "id": "a7d1ddda",
   "metadata": {},
   "outputs": [
    {
     "name": "stdout",
     "output_type": "stream",
     "text": [
      "DONE\n"
     ]
    }
   ],
   "source": [
    "import sys\n",
    "import numpy as np\n",
    "import pandas as pd\n",
    "import matplotlib.pyplot as plt\n",
    "import math\n",
    "\n",
    "var = ['obh','odh','ohh','ojh','olh','ops','opr']\n",
    "for var in var:\n",
    "    \n",
    "    # Read the header\n",
    "    skip_rows = 1\n",
    "    with open(f\"mbrq/{var}\", 'r') as file:\n",
    "        for _ in range(skip_rows):\n",
    "            next(file)\n",
    "        header = file.readline().strip().split()\n",
    "\n",
    "    # Load the data file\n",
    "    # coolap = np.loadtxt(f\"mbrq-org/{var}\")\n",
    "    simba = np.loadtxt(f\"mbrq/{var}\")\n",
    "\n",
    "    l=simba.shape[1]-1\n",
    "    m=math.ceil((l-1)/2)\n",
    "    num_pages = -(-l//8)\n",
    "\n",
    "    for page in range(num_pages):\n",
    "        # plot the figure\n",
    "    #     print(page+1)\n",
    "        fig, ax = plt.subplots(4,2) \n",
    "        fig.set_figwidth(8)\n",
    "        fig.set_figheight(12)\n",
    "        fig.subplots_adjust(hspace=0.3, wspace=0.3, top=0.93)\n",
    "        for i in range(4):\n",
    "            for j in range(2):\n",
    "                k=page*8+i*2+j\n",
    "                if k<=l-1:\n",
    "                    if var != 'opr':\n",
    "                        ax[i,j].plot(simba[:, 0], simba[:, k+1], color=\"black\")\n",
    "                    else:\n",
    "                        ax[i,j].scatter(range(len(simba[:, 0])), simba[:, k+1], fc=\"none\", ec='blue')\n",
    "                        \n",
    "                    ax[i,j].set_title(header[k+1], loc='center')\n",
    "                    ax[i,j].grid(True, ls='--',color='gray')\n",
    "#                     ax[i,j].set_xlim(0,100)\n",
    "                    if var == 'ops':\n",
    "                        ax[i,j].set_xscale('log')\n",
    "        fig.suptitle(f\"{var}_{page}\")\n",
    "    # num_pages\n",
    "        plt.savefig(f\"post/{var}_{page}.png\", dpi=300,bbox_inches='tight')\n",
    "        plt.close(fig)\n",
    "\n",
    "print(\"DONE\")\n",
    "    "
   ]
  },
  {
   "cell_type": "code",
   "execution_count": null,
   "id": "90a77cd4",
   "metadata": {},
   "outputs": [],
   "source": [
    "# OPT"
   ]
  },
  {
   "cell_type": "code",
   "execution_count": 4,
   "id": "73e8d9dc",
   "metadata": {},
   "outputs": [
    {
     "name": "stdout",
     "output_type": "stream",
     "text": [
      "DONE\n"
     ]
    }
   ],
   "source": [
    "import sys\n",
    "import numpy as np\n",
    "import pandas as pd\n",
    "import matplotlib.pyplot as plt\n",
    "import math\n",
    "\n",
    "var='opt'\n",
    "file_path = f'mbrq/{var}'\n",
    "target_prefix = \"#id=\"\n",
    "\n",
    "# ----------------------------------------------------------------------\n",
    "def find_line_numbers(file_path, target_prefix):\n",
    "    line_numbers = []\n",
    "    with open(file_path, 'r') as file:\n",
    "        for line_num, line in enumerate(file, 1):\n",
    "            if line.startswith(target_prefix):\n",
    "                line_numbers.append(line_num)\n",
    "    return line_numbers[-1]\n",
    "# ----------------------------------------------------------------------\n",
    "\n",
    "# Read the header\n",
    "skip_rows = find_line_numbers(file_path, target_prefix)\n",
    "# print(f\"Line number(s) starting with '{target_prefix}': {line_numbers}\")\n",
    "\n",
    "with open(f\"mbrq/{var}\", 'r') as file:\n",
    "    for _ in range(skip_rows):\n",
    "        next(file)\n",
    "    header = file.readline().strip().split()\n",
    "\n",
    "simba = np.loadtxt(f\"mbrq/{var}\", skiprows=skip_rows-1)\n",
    "\n",
    "l=simba.shape[1]-1\n",
    "m=math.ceil((l-1)/2)\n",
    "num_pages = -(-l//8)\n",
    "\n",
    "for page in range(num_pages):\n",
    "    # plot the figure\n",
    "#     print(page+1)\n",
    "    fig, ax = plt.subplots(4,2) \n",
    "    fig.set_figwidth(8)\n",
    "    fig.set_figheight(12)\n",
    "    fig.subplots_adjust(hspace=0.3, wspace=0.3, top=0.93)\n",
    "    for i in range(4):\n",
    "        for j in range(2):\n",
    "            k=page*8+i*2+j\n",
    "            if k<=l-1:\n",
    "                ax[i,j].scatter(simba[:, 1], simba[:, k+1], fc='none',ec='blue')\n",
    "                ax[i,j].set_title(header[k+1], loc='center')\n",
    "                ax[i,j].grid(True, ls='--',color='gray')\n",
    "    fig.suptitle(f\"{var}\")\n",
    "# num_pages\n",
    "    plt.savefig(f\"post/{var}_{page}.png\", dpi=300,bbox_inches='tight')\n",
    "    plt.close(fig)\n",
    "\n",
    "print(\"DONE\")\n",
    "\n"
   ]
  },
  {
   "cell_type": "code",
   "execution_count": null,
   "id": "66d585c2",
   "metadata": {},
   "outputs": [],
   "source": [
    "# ODL"
   ]
  },
  {
   "cell_type": "code",
   "execution_count": 3,
   "id": "e2dd0bb1",
   "metadata": {},
   "outputs": [
    {
     "name": "stdout",
     "output_type": "stream",
     "text": [
      "DONE\n"
     ]
    }
   ],
   "source": [
    "import sys\n",
    "import numpy as np\n",
    "import pandas as pd\n",
    "import matplotlib.pyplot as plt\n",
    "import math\n",
    "\n",
    "# need to do something more\n",
    "var = 'odl'\n",
    "file_path = f'mbrq/{var}'\n",
    "target_prefix = \"#index:\"\n",
    "\n",
    "# ----------------------------------------------------------------------\n",
    "def find_line_numbers(file_path, target_prefix):\n",
    "    line_numbers = []\n",
    "    with open(file_path, 'r') as file:\n",
    "        for line_num, line in enumerate(file, 1):\n",
    "            if line.startswith(target_prefix):\n",
    "                line_numbers.append(line_num)\n",
    "    return line_numbers[-1]\n",
    "# ----------------------------------------------------------------------\n",
    "\n",
    "# Read the header\n",
    "skip_rows = find_line_numbers(file_path, target_prefix)\n",
    "# print(f\"Line number(s) starting with '{target_prefix}': {line_numbers}\")\n",
    "\n",
    "l=simba.shape[1]-4\n",
    "m=math.ceil((l-1)/2)\n",
    "num_pages = -(-l//8)\n",
    "\n",
    "with open(f\"mbrq/{var}\", 'r') as file:\n",
    "    for _ in range(skip_rows+1):\n",
    "        next(file)\n",
    "    header = file.readline().strip().split()\n",
    "\n",
    "simba = np.loadtxt(f\"mbrq/{var}\", skiprows=skip_rows-1)\n",
    "\n",
    "for page in range(num_pages):\n",
    "    # plot the figure\n",
    "    fig, ax = plt.subplots(4,2) \n",
    "    fig.set_figwidth(8)\n",
    "    fig.set_figheight(12)\n",
    "    fig.subplots_adjust(hspace=0.3, wspace=0.3, top=0.93)\n",
    "    for i in range(4):\n",
    "        for j in range(2):\n",
    "            k=page*8+i*2+j\n",
    "            if k<=l-1:\n",
    "                min_s=np.min(simba[:, k+4])\n",
    "                max_s=np.max(simba[:, k+4])\n",
    "                if min_s != max_s:\n",
    "                    norm = 100*(simba[:, k+4]-min_s)/(max_s-min_s)\n",
    "                    ax[i,j].scatter(simba[:, 2], simba[:, 3], c=norm, cmap='jet',alpha=0.7) #, fc='none',ec='blue')\n",
    "                else:\n",
    "                    norm = 100*np.zeros_like(simba[:, k+4])+50\n",
    "                    ax[i,j].scatter(simba[:, 2], simba[:, 3], fc='none', ec='black',alpha=0.7) #, fc='none',ec='blue')\n",
    "                \n",
    "                ax[i,j].set_title(header[k+4], loc='center')\n",
    "                ax[i,j].grid(True, ls='--',color='gray')\n",
    "    fig.suptitle(f\"{var}\")\n",
    "    plt.savefig(f\"post/{var}_{page}.png\", dpi=300,bbox_inches='tight')\n",
    "    plt.close(fig)\n",
    "\n",
    "print(\"DONE\")\n",
    "\n",
    "\n"
   ]
  },
  {
   "cell_type": "code",
   "execution_count": null,
   "id": "1f3ca185",
   "metadata": {},
   "outputs": [],
   "source": [
    "simba\n"
   ]
  },
  {
   "cell_type": "code",
   "execution_count": null,
   "id": "d2f6721a",
   "metadata": {},
   "outputs": [],
   "source": [
    "import sys\n",
    "import numpy as np\n",
    "import pandas as pd\n",
    "import matplotlib.pyplot as plt\n",
    "import math\n",
    "\n",
    "# need to do something more\n",
    "var = 'odl'\n",
    "file_path = f'mbrq/{var}'\n",
    "target_prefix = \"#index:\"\n",
    "\n",
    "# ----------------------------------------------------------------------\n",
    "def find_line_numbers(file_path, target_prefix):\n",
    "    line_numbers = []\n",
    "    with open(file_path, 'r') as file:\n",
    "        for line_num, line in enumerate(file, 1):\n",
    "            if line.startswith(target_prefix):\n",
    "                line_numbers.append(line_num)\n",
    "    return line_numbers[-1]\n",
    "# ----------------------------------------------------------------------\n",
    "\n",
    "# Read the header\n",
    "skip_rows = find_line_numbers(file_path, target_prefix)\n",
    "# print(f\"Line number(s) starting with '{target_prefix}': {line_numbers}\")\n",
    "\n",
    "with open(f\"mbrq/{var}\", 'r') as file:\n",
    "    for _ in range(skip_rows+1):\n",
    "        next(file)\n",
    "    header = file.readline().strip().split()\n",
    "\n",
    "simba = np.loadtxt(f\"mbrq/{var}\", skiprows=skip_rows-1)\n",
    "k=13\n",
    "n=5\n",
    "\n",
    "\n",
    "nth = np.partition(simba[:,k],-n)[-n]\n",
    "\n",
    "min_s=np.min(simba[:, k])\n",
    "max_s=np.max(simba[:, k])\n",
    "# if min_s != max_s:\n",
    "norm1 = 100*(simba[:, k]-min_s)/(max_s-min_s)\n",
    "norm2 = np.clip(100*(simba[:, k]-min_s)/(nth-min_s),a_min=0, a_max=100)\n",
    "\n",
    "\n",
    "plt.scatter(simba[:, 2], simba[:, 3], s=100, c=norm2, cmap='jet',alpha=0.7)\n",
    "plt.tight_layout()\n",
    "plt.title(header[k], loc='center')\n",
    "plt.grid(True, ls='--',color='gray')\n",
    "#     fig.suptitle(f\"{var}\")\n",
    "#     plt.savefig(f\"post/{var}_{page}.png\", dpi=300,bbox_inches='tight')\n",
    "#     plt.close(fig)\n",
    "\n",
    "print(\"DONE\")\n",
    "\n",
    "\n"
   ]
  },
  {
   "cell_type": "code",
   "execution_count": null,
   "id": "b3289fac",
   "metadata": {},
   "outputs": [],
   "source": [
    "norm1"
   ]
  },
  {
   "cell_type": "code",
   "execution_count": null,
   "id": "90ace2c0",
   "metadata": {},
   "outputs": [],
   "source": [
    "norm2"
   ]
  }
 ],
 "metadata": {
  "kernelspec": {
   "display_name": "Python 3 (ipykernel)",
   "language": "python",
   "name": "python3"
  },
  "language_info": {
   "codemirror_mode": {
    "name": "ipython",
    "version": 3
   },
   "file_extension": ".py",
   "mimetype": "text/x-python",
   "name": "python",
   "nbconvert_exporter": "python",
   "pygments_lexer": "ipython3",
   "version": "3.11.4"
  }
 },
 "nbformat": 4,
 "nbformat_minor": 5
}
